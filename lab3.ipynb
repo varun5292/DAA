{
 "cells": [
  {
   "cell_type": "code",
   "execution_count": 1,
   "metadata": {},
   "outputs": [
    {
     "name": "stdout",
     "output_type": "stream",
     "text": [
      "Output for nums1: [(2, 8), (3, 7)]\n",
      "Output for nums2: Pair not found\n"
     ]
    }
   ],
   "source": [
    "def find_pair_with_sum(nums, target):\n",
    "    seen = set()\n",
    "    pairs = []\n",
    "    for num in nums:\n",
    "        complement = target - num\n",
    "        if complement in seen:\n",
    "            pairs.append((num, complement))\n",
    "        seen.add(num)\n",
    "    return pairs if pairs else \"Pair not found\"\n",
    "\n",
    "# Example usage\n",
    "nums1 = [8, 7, 2, 5, 3, 1]\n",
    "target1 = 10\n",
    "print(\"Output for nums1:\", find_pair_with_sum(nums1, target1))\n",
    "\n",
    "nums2 = [5, 2, 6, 8, 1, 9]\n",
    "target2 = 12\n",
    "print(\"Output for nums2:\", find_pair_with_sum(nums2, target2))\n"
   ]
  },
  {
   "cell_type": "code",
   "execution_count": 2,
   "metadata": {},
   "outputs": [
    {
     "name": "stdout",
     "output_type": "stream",
     "text": [
      "Output for arr1: (9, 8)\n"
     ]
    }
   ],
   "source": [
    "def find_max_product_pair(arr):\n",
    "    if len(arr) < 2:\n",
    "        return \"Pair not found\"\n",
    "\n",
    "    max1 = max2 = float('-inf')\n",
    "    min1 = min2 = float('inf')\n",
    "\n",
    "    for num in arr:\n",
    "        if num > max1:\n",
    "            max2 = max1\n",
    "            max1 = num\n",
    "        elif num > max2:\n",
    "            max2 = num\n",
    "        \n",
    "        if num < min1:\n",
    "            min2 = min1\n",
    "            min1 = num\n",
    "        elif num < min2:\n",
    "            min2 = num\n",
    "\n",
    "    if max1 * max2 > min1 * min2:\n",
    "        return max1, max2\n",
    "    else:\n",
    "        return min1, min2\n",
    "\n",
    "# Example usage\n",
    "arr1 = [1, 7, 4, 2, 8, 6, 3, 9, 5]\n",
    "print(\"Output for arr1:\", find_max_product_pair(arr1))\n"
   ]
  },
  {
   "cell_type": "code",
   "execution_count": 3,
   "metadata": {},
   "outputs": [
    {
     "name": "stdout",
     "output_type": "stream",
     "text": [
      "Output for arr1: [3, 5, 6, 7, 8, 9]\n",
      "Output for arr2: [3, 5, 6, 7, 8, 9]\n",
      "Output for arr3: [3, 5, 6, 7, 8, 9]\n"
     ]
    }
   ],
   "source": [
    "def sort_array_with_swapped_elements(arr):\n",
    "    first, last = None, None\n",
    "    for i in range(len(arr) - 1):\n",
    "        if arr[i] > arr[i + 1]:\n",
    "            if first is None:\n",
    "                first = i\n",
    "            last = i + 1\n",
    "    \n",
    "    if first is not None and last is not None:\n",
    "        arr[first], arr[last] = arr[last], arr[first]\n",
    "\n",
    "    return arr\n",
    "\n",
    "# Example usage\n",
    "arr1 = [3, 8, 6, 7, 5, 9]\n",
    "arr2 = [3, 5, 6, 9, 8, 7]\n",
    "arr3 = [3, 5, 7, 6, 8, 9]\n",
    "print(\"Output for arr1:\", sort_array_with_swapped_elements(arr1))\n",
    "print(\"Output for arr2:\", sort_array_with_swapped_elements(arr2))\n",
    "print(\"Output for arr3:\", sort_array_with_swapped_elements(arr3))\n"
   ]
  },
  {
   "cell_type": "code",
   "execution_count": 4,
   "metadata": {},
   "outputs": [
    {
     "name": "stdout",
     "output_type": "stream",
     "text": [
      "Output array: [0, 0, 0, 0, 1, 1, 1, 1, 1]\n"
     ]
    }
   ],
   "source": [
    "def segregate_zeros_and_ones(arr):\n",
    "    left, right = 0, len(arr) - 1\n",
    "    while left < right:\n",
    "        while arr[left] == 0 and left < right:\n",
    "            left += 1\n",
    "        while arr[right] == 1 and left < right:\n",
    "            right -= 1\n",
    "        if left < right:\n",
    "            arr[left], arr[right] = arr[right], arr[left]\n",
    "            left += 1\n",
    "            right -= 1\n",
    "    return arr\n",
    "\n",
    "# Example usage\n",
    "binary_array = [1, 0, 1, 0, 0, 1, 1, 0, 1]\n",
    "print(\"Output array:\", segregate_zeros_and_ones(binary_array))\n"
   ]
  },
  {
   "cell_type": "code",
   "execution_count": 5,
   "metadata": {},
   "outputs": [
    {
     "name": "stdout",
     "output_type": "stream",
     "text": [
      "Total count of inversions: 8\n"
     ]
    }
   ],
   "source": [
    "def merge(left, right):\n",
    "    result = []\n",
    "    inv_count = 0\n",
    "    i = j = 0\n",
    "    while i < len(left) and j < len(right):\n",
    "        if left[i] <= right[j]:\n",
    "            result.append(left[i])\n",
    "            i += 1\n",
    "        else:\n",
    "            result.append(right[j])\n",
    "            j += 1\n",
    "            inv_count += len(left) - i  # Count inversions\n",
    "    result.extend(left[i:])\n",
    "    result.extend(right[j:])\n",
    "    return result, inv_count\n",
    "\n",
    "def merge_sort(arr):\n",
    "    if len(arr) <= 1:\n",
    "        return arr, 0\n",
    "    mid = len(arr) // 2\n",
    "    left, left_inv = merge_sort(arr[:mid])\n",
    "    right, right_inv = merge_sort(arr[mid:])\n",
    "    merged, merge_inv = merge(left, right)\n",
    "    return merged, left_inv + right_inv + merge_inv\n",
    "\n",
    "# Example usage\n",
    "A = [10, 1, 2, 4, 13, 9, 5]\n",
    "_, inversions = merge_sort(A)\n",
    "print(\"Total count of inversions:\", inversions)\n"
   ]
  },
  {
   "cell_type": "code",
   "execution_count": 6,
   "metadata": {},
   "outputs": [
    {
     "name": "stdout",
     "output_type": "stream",
     "text": [
      "Pair found: (4, 6)\n"
     ]
    }
   ],
   "source": [
    "def find_pair_with_sum_brute_force(arr, K):\n",
    "    for i in range(len(arr)):\n",
    "        for j in range(i + 1, len(arr)):\n",
    "            if arr[i] + arr[j] == K:\n",
    "                return arr[i], arr[j]\n",
    "    return None\n",
    "\n",
    "# Example usage\n",
    "arr = [8, 4, 1, 6]\n",
    "K = 10\n",
    "result = find_pair_with_sum_brute_force(arr, K)\n",
    "if result:\n",
    "    print(f\"Pair found: {result}\")\n",
    "else:\n",
    "    print(\"Pair not found\")\n"
   ]
  }
 ],
 "metadata": {
  "kernelspec": {
   "display_name": "Python 3",
   "language": "python",
   "name": "python3"
  },
  "language_info": {
   "codemirror_mode": {
    "name": "ipython",
    "version": 3
   },
   "file_extension": ".py",
   "mimetype": "text/x-python",
   "name": "python",
   "nbconvert_exporter": "python",
   "pygments_lexer": "ipython3",
   "version": "3.11.4"
  }
 },
 "nbformat": 4,
 "nbformat_minor": 2
}
